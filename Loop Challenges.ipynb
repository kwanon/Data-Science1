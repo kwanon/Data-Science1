{
 "cells": [
  {
   "cell_type": "code",
   "execution_count": 8,
   "id": "185107c0",
   "metadata": {},
   "outputs": [
    {
     "name": "stdout",
     "output_type": "stream",
     "text": [
      "Even numbers: [2, 4, 6, 8, 10]\n",
      "Odd numbers: [1, 3, 5, 7, 9]\n"
     ]
    }
   ],
   "source": [
    "#Iterate through every number in a list to separate out even and odd numbers. \n",
    "\n",
    "list = [1,2,3,4,5,6,7,8,9,10]\n",
    "even = []\n",
    "odd = []\n",
    "\n",
    "for i in list:\n",
    "    if i % 2 == 0:\n",
    "        even.append(i)\n",
    "    else:\n",
    "        odd.append(i)\n",
    "\n",
    "print(\"Even numbers:\", even)\n",
    "print(\"Odd numbers:\", odd)"
    "print(\"Odd numberrrr:\", odd)"
   ]
  },
  {
   "cell_type": "code",
   "execution_count": 9,
   "id": "bab5bb17",
   "metadata": {},
   "outputs": [
    {
     "name": "stdout",
     "output_type": "stream",
     "text": [
      "Sum:  150\n"
     ]
    }
   ],
   "source": [
    "#Find the sum of all numbers in a list\n",
    "\n",
    "list1 = [10,20,30,40,50]\n",
    "sum = 0 \n",
    "\n",
    "for s in list1:\n",
    "    sum += s\n",
    "    \n",
    "print (\"Sum: \", sum)"
   ]
  },
  {
   "cell_type": "code",
   "execution_count": 15,
   "id": "cb67d755",
   "metadata": {},
   "outputs": [
    {
     "name": "stdout",
     "output_type": "stream",
     "text": [
      "Sum of even numbers:  24\n"
     ]
    }
   ],
   "source": [
    "#Calculate the sum of even numbers in a list\n",
    "\n",
    "list2 = [5,6,7,8,9,10]\n",
    "sum_even = 0 \n",
    "\n",
    "for x in list2:\n",
    "    if x % 2 == 0:\n",
    "        sum_even += x\n",
    "        \n",
    "print(\"Sum of even numbers: \", sum_even)"
   ]
  }
 ],
 "metadata": {
  "kernelspec": {
   "display_name": "Python 3 (ipykernel)",
   "language": "python",
   "name": "python3"
  },
  "language_info": {
   "codemirror_mode": {
    "name": "ipython",
    "version": 3
   },
   "file_extension": ".py",
   "mimetype": "text/x-python",
   "name": "python",
   "nbconvert_exporter": "python",
   "pygments_lexer": "ipython3",
   "version": "3.9.12"
  }
 },
 "nbformat": 4,
 "nbformat_minor": 5
}
